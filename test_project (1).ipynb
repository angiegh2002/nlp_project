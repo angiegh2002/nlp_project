{
  "cells": [
    {
      "cell_type": "code",
      "source": [
        "!gsutil -m cp \"gs://quickdraw_dataset/full/simplified/cat.ndjson\" .\n",
        "!gsutil -m cp \"gs://quickdraw_dataset/full/simplified/dog.ndjson\" ."
      ],
      "metadata": {
        "colab": {
          "base_uri": "https://localhost:8080/"
        },
        "id": "XXHSdXdg6DTS",
        "outputId": "31faefa6-1fa1-4fa1-eac3-12469a04a566"
      },
      "execution_count": 4,
      "outputs": [
        {
          "output_type": "stream",
          "name": "stdout",
          "text": [
            "Copying gs://quickdraw_dataset/full/simplified/cat.ndjson...\n",
            "- [1/1 files][ 73.1 MiB/ 73.1 MiB] 100% Done                                    \n",
            "Operation completed over 1 objects/73.1 MiB.                                     \n",
            "Copying gs://quickdraw_dataset/full/simplified/dog.ndjson...\n",
            "\\\n",
            "Operation completed over 1 objects/87.1 MiB.                                     \n"
          ]
        }
      ]
    },
    {
      "cell_type": "code",
      "source": [
        "!gsutil -m cp -I gs://quickdraw_dataset/full/simplified/ < classes.txt"
      ],
      "metadata": {
        "id": "4J8K4SNY6SgX"
      },
      "execution_count": null,
      "outputs": []
    }
  ],
  "metadata": {
    "kernelspec": {
      "display_name": "Python 3",
      "name": "python3"
    },
    "language_info": {
      "codemirror_mode": {
        "name": "ipython",
        "version": 3
      },
      "file_extension": ".py",
      "mimetype": "text/x-python",
      "name": "python",
      "nbconvert_exporter": "python",
      "pygments_lexer": "ipython3",
      "version": "3.12.3"
    },
    "colab": {
      "provenance": [],
      "gpuType": "T4"
    },
    "accelerator": "GPU"
  },
  "nbformat": 4,
  "nbformat_minor": 0
}